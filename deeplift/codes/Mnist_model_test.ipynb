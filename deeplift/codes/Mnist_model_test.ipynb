{
 "cells": [
  {
   "cell_type": "markdown",
   "metadata": {},
   "source": [
    "## Loading model"
   ]
  },
  {
   "cell_type": "code",
   "execution_count": 4,
   "metadata": {},
   "outputs": [],
   "source": [
    "from keras.models import load_model\n",
    "\n",
    "saved_model_file = 'mnist_deeplift.h5'\n",
    "model = load_model(saved_model_file)"
   ]
  },
  {
   "cell_type": "markdown",
   "metadata": {},
   "source": [
    "## Preprocessing"
   ]
  },
  {
   "cell_type": "code",
   "execution_count": 5,
   "metadata": {},
   "outputs": [],
   "source": [
    "import tensorflow as tf\n",
    "\n",
    "(x_train, y_train), (x_test, y_test) = tf.keras.datasets.mnist.load_data()"
   ]
  },
  {
   "cell_type": "code",
   "execution_count": 6,
   "metadata": {},
   "outputs": [
    {
     "name": "stdout",
     "output_type": "stream",
     "text": [
      "x_train shape: (60000, 28, 28, 1)\n",
      "Number of images in x_train 60000\n",
      "Number of images in x_test 10000\n"
     ]
    }
   ],
   "source": [
    "x_train = x_train.reshape(x_train.shape[0], 28, 28, 1)\n",
    "x_test = x_test.reshape(x_test.shape[0], 28, 28, 1)\n",
    "input_shape = (28, 28, 1)\n",
    "# Making sure that the values are float so that we can get decimal points after division\n",
    "x_train = x_train.astype('float32')\n",
    "x_test = x_test.astype('float32')\n",
    "# Normalizing the RGB codes by dividing it to the max RGB value.\n",
    "x_train /= 255\n",
    "x_test /= 255\n",
    "print('x_train shape:', x_train.shape)\n",
    "print('Number of images in x_train', x_train.shape[0])\n",
    "print('Number of images in x_test', x_test.shape[0])\n",
    "\n",
    "from keras.utils import to_categorical\n",
    "y_train = to_categorical(y_train)\n",
    "y_test = to_categorical(y_test)"
   ]
  },
  {
   "cell_type": "markdown",
   "metadata": {},
   "source": [
    "## Evaluation"
   ]
  },
  {
   "cell_type": "code",
   "execution_count": 7,
   "metadata": {},
   "outputs": [
    {
     "name": "stdout",
     "output_type": "stream",
     "text": [
      "10000/10000 [==============================] - 0s 42us/step\n"
     ]
    },
    {
     "data": {
      "text/plain": [
       "[0.025857398764466008, 0.9919]"
      ]
     },
     "execution_count": 7,
     "metadata": {},
     "output_type": "execute_result"
    }
   ],
   "source": [
    "model.evaluate(x_test, y_test)"
   ]
  },
  {
   "cell_type": "markdown",
   "metadata": {},
   "source": [
    "## Layers and Parameters of model"
   ]
  },
  {
   "cell_type": "code",
   "execution_count": 8,
   "metadata": {},
   "outputs": [
    {
     "name": "stdout",
     "output_type": "stream",
     "text": [
      "_________________________________________________________________\n",
      "Layer (type)                 Output Shape              Param #   \n",
      "=================================================================\n",
      "conv2d_1 (Conv2D)            (None, 13, 13, 32)        544       \n",
      "_________________________________________________________________\n",
      "activation_1 (Activation)    (None, 13, 13, 32)        0         \n",
      "_________________________________________________________________\n",
      "conv2d_2 (Conv2D)            (None, 5, 5, 64)          32832     \n",
      "_________________________________________________________________\n",
      "activation_2 (Activation)    (None, 5, 5, 64)          0         \n",
      "_________________________________________________________________\n",
      "dropout_1 (Dropout)          (None, 5, 5, 64)          0         \n",
      "_________________________________________________________________\n",
      "flatten_1 (Flatten)          (None, 1600)              0         \n",
      "_________________________________________________________________\n",
      "dense_1 (Dense)              (None, 128)               204928    \n",
      "_________________________________________________________________\n",
      "activation_3 (Activation)    (None, 128)               0         \n",
      "_________________________________________________________________\n",
      "dropout_2 (Dropout)          (None, 128)               0         \n",
      "_________________________________________________________________\n",
      "dense_2 (Dense)              (None, 10)                1290      \n",
      "_________________________________________________________________\n",
      "activation_4 (Activation)    (None, 10)                0         \n",
      "=================================================================\n",
      "Total params: 239,594\n",
      "Trainable params: 239,594\n",
      "Non-trainable params: 0\n",
      "_________________________________________________________________\n"
     ]
    }
   ],
   "source": [
    "model.summary()"
   ]
  },
  {
   "cell_type": "markdown",
   "metadata": {},
   "source": [
    "## Prepare the deeplift models"
   ]
  },
  {
   "cell_type": "markdown",
   "metadata": {},
   "source": [
    "### Model Conversion "
   ]
  },
  {
   "cell_type": "code",
   "execution_count": 9,
   "metadata": {},
   "outputs": [
    {
     "name": "stdout",
     "output_type": "stream",
     "text": [
      "nonlinear_mxts_mode is set to: RevealCancel\n",
      "28\n",
      "13\n",
      "Heads-up: I assume softmax is the output layer, not an intermediate one; if it's an intermediate layer, please let me know and I will prioritise that use-case\n"
     ]
    }
   ],
   "source": [
    "from os.path import dirname, abspath, join\n",
    "import sys\n",
    "\n",
    "sys.path.append('/home/muskaanjain/git/deeplift')\n",
    "\n",
    "import deeplift\n",
    "from deeplift.layers import NonlinearMxtsMode\n",
    "from deeplift.conversion import kerasapi_conversion as kc\n",
    "\n",
    "revealcancel_model = kc.convert_model_from_saved_files(\n",
    "                            h5_file=saved_model_file,\n",
    "                            nonlinear_mxts_mode=NonlinearMxtsMode.RevealCancel)"
   ]
  },
  {
   "cell_type": "markdown",
   "metadata": {},
   "source": [
    "### Sanity checks"
   ]
  },
  {
   "cell_type": "code",
   "execution_count": 10,
   "metadata": {
    "scrolled": true
   },
   "outputs": [
    {
     "name": "stdout",
     "output_type": "stream",
     "text": [
      "difference in predictions: 0.0\n"
     ]
    }
   ],
   "source": [
    "from deeplift.util import compile_func\n",
    "import numpy as np\n",
    "from keras import backend as K\n",
    "\n",
    "deeplift_model = revealcancel_model\n",
    "deeplift_prediction_func = compile_func([deeplift_model.get_layers()[0].get_activation_vars()],\n",
    "                                       deeplift_model.get_layers()[-1].get_activation_vars())\n",
    "original_model_predictions = model.predict(x_test, batch_size=200)\n",
    "converted_model_predictions = deeplift.util.run_function_in_batches(\n",
    "                                input_data_list=[x_test],\n",
    "                                func=deeplift_prediction_func,\n",
    "                                batch_size=200,\n",
    "                                progress_update=None)\n",
    "print(\"difference in predictions:\",np.max(np.array(converted_model_predictions)-np.array(original_model_predictions)))\n",
    "assert np.max(np.array(converted_model_predictions)-np.array(original_model_predictions)) < 10**-5\n",
    "predictions = converted_model_predictions"
   ]
  },
  {
   "cell_type": "markdown",
   "metadata": {},
   "source": [
    "## Compute Important scores"
   ]
  },
  {
   "cell_type": "markdown",
   "metadata": {},
   "source": [
    "### Prepare scoring functions"
   ]
  },
  {
   "cell_type": "code",
   "execution_count": 93,
   "metadata": {},
   "outputs": [],
   "source": [
    "from keras import backend as K\n",
    "import deeplift\n",
    "from deeplift.util import get_integrated_gradients_function\n",
    "\n",
    "revealcancel_func = revealcancel_model.get_target_contribs_func(find_scores_layer_idx=0, target_layer_idx=-2)"
   ]
  },
  {
   "cell_type": "markdown",
   "metadata": {},
   "source": [
    "### Call scoring functions on dataset"
   ]
  },
  {
   "cell_type": "code",
   "execution_count": 94,
   "metadata": {},
   "outputs": [
    {
     "name": "stdout",
     "output_type": "stream",
     "text": [
      "Computing scores for: revealcancel\n",
      "\tComputing scores for task: 0\n",
      "\tComputing scores for task: 1\n",
      "\tComputing scores for task: 2\n",
      "\tComputing scores for task: 3\n",
      "\tComputing scores for task: 4\n",
      "\tComputing scores for task: 5\n",
      "\tComputing scores for task: 6\n",
      "\tComputing scores for task: 7\n",
      "\tComputing scores for task: 8\n",
      "\tComputing scores for task: 9\n"
     ]
    }
   ],
   "source": [
    "from collections import OrderedDict\n",
    "method_to_task_to_scores = OrderedDict()\n",
    "\n",
    "for method_name, score_func in [('revealcancel', revealcancel_func)]:\n",
    "    print(\"Computing scores for:\",method_name)\n",
    "    method_to_task_to_scores[method_name] = {}\n",
    "    for task_idx in range(10):\n",
    "        print(\"\\tComputing scores for task: \"+str(task_idx))\n",
    "        scores = np.array(score_func(\n",
    "                    task_idx=task_idx,\n",
    "                    input_data_list=[x_test],\n",
    "                    input_references_list=[np.zeros_like(x_test)],\n",
    "                    batch_size=1000,\n",
    "                    progress_update=None))\n",
    "        method_to_task_to_scores[method_name][task_idx] = scores"
   ]
  },
  {
   "cell_type": "code",
   "execution_count": 95,
   "metadata": {},
   "outputs": [
    {
     "data": {
      "text/plain": [
       "(10000, 28, 28, 1)"
      ]
     },
     "execution_count": 95,
     "metadata": {},
     "output_type": "execute_result"
    }
   ],
   "source": [
    "scores.shape\n"
   ]
  },
  {
   "cell_type": "markdown",
   "metadata": {},
   "source": [
    "## Plotting figures"
   ]
  },
  {
   "cell_type": "code",
   "execution_count": 96,
   "metadata": {},
   "outputs": [],
   "source": [
    "%matplotlib inline\n",
    "import matplotlib.pyplot as plt\n",
    "import matplotlib.colors as colors\n",
    "from keras import backend as K\n",
    "\n",
    "\n",
    "#Function to plot scores of an MNIST figure\n",
    "def viz_scores(scores,ax):\n",
    "    reshaped_scores = scores.reshape(28,28)\n",
    "    the_min = np.min(reshaped_scores)\n",
    "    the_max = np.max(reshaped_scores)\n",
    "    center = 0.0\n",
    "    negative_vals = (reshaped_scores < 0.0)*reshaped_scores/(the_min + 10**-7)\n",
    "    positive_vals = (reshaped_scores > 0.0)*reshaped_scores/float(the_max)\n",
    "    reshaped_scores = -negative_vals + positive_vals\n",
    "    ax.imshow(-reshaped_scores, cmap=\"Greys\")\n",
    "    ax.set_xticks([])\n",
    "    ax.set_yticks([])\n"
   ]
  },
  {
   "cell_type": "code",
   "execution_count": 97,
   "metadata": {},
   "outputs": [],
   "source": [
    "y_pred = model.predict(x_test, batch_size=200)"
   ]
  },
  {
   "cell_type": "code",
   "execution_count": 98,
   "metadata": {},
   "outputs": [],
   "source": [
    "predictions = np.argmax(y_pred, axis=1)"
   ]
  },
  {
   "cell_type": "markdown",
   "metadata": {},
   "source": [
    "### Example of right predictions"
   ]
  },
  {
   "cell_type": "code",
   "execution_count": 100,
   "metadata": {},
   "outputs": [
    {
     "data": {
      "image/png": "[encoded data removed]",
      "text/plain": [
       "<Figure size 720x720 with 2 Axes>"
      ]
     },
     "metadata": {},
     "output_type": "display_data"
    }
   ],
   "source": [
    "idx = 99\n",
    "(_, _), (test, _) = tf.keras.datasets.mnist.load_data()\n",
    "f, axarr = plt.subplots(1, 2, sharey=False, figsize=(10,10))\n",
    "viz_scores(x_test[idx], axarr[0]) \n",
    "viz_scores(test[idx], axarr[1])   "
   ]
  },
  {
   "cell_type": "code",
   "execution_count": 101,
   "metadata": {},
   "outputs": [
    {
     "data": {
      "text/plain": [
       "9"
      ]
     },
     "execution_count": 101,
     "metadata": {},
     "output_type": "execute_result"
    }
   ],
   "source": [
    "predictions[idx]"
   ]
  },
  {
   "cell_type": "code",
   "execution_count": 102,
   "metadata": {},
   "outputs": [],
   "source": [
    "#Function that masks out the top n pixels where the score for\n",
    "#task_1 is higher than the score for task_2\n",
    "def get_masked_image(idx, scores, task_1, task_2, n_to_erase):\n",
    "    difference = scores[task_1][idx].ravel() - scores[task_2][idx].ravel()\n",
    "    #highlight the top n\n",
    "    top_nth_threshold = max(sorted(difference, reverse=True)[n_to_erase],0.0)\n",
    "    thresholded_points = 1.0*(difference >= top_nth_threshold)\n",
    "    masked_inp = thresholded_points.reshape(28,28,1)*x_test[idx]\n",
    "    return masked_inp"
   ]
  },
  {
   "cell_type": "markdown",
   "metadata": {},
   "source": [
    "### Features responsible for prediction of the following image as 9 and not 1"
   ]
  },
  {
   "cell_type": "code",
   "execution_count": 103,
   "metadata": {},
   "outputs": [
    {
     "data": {
      "image/png": "[encoded data removed]",
      "text/plain": [
       "<Figure size 720x720 with 1 Axes>"
      ]
     },
     "metadata": {},
     "output_type": "display_data"
    }
   ],
   "source": [
    "f, axarr = plt.subplots(1, 1, sharey=False, figsize=(10,10))\n",
    "viz_scores(get_masked_image(idx, method_to_task_to_scores['revealcancel'], 9, 1, 40), axarr)"
   ]
  },
  {
   "cell_type": "markdown",
   "metadata": {},
   "source": [
    "### Example of wrong predictions"
   ]
  },
  {
   "cell_type": "code",
   "execution_count": 104,
   "metadata": {},
   "outputs": [],
   "source": [
    "(_, _), (_, test) = tf.keras.datasets.mnist.load_data()\n",
    "difference = predictions.ravel() - test.ravel()\n",
    "test_point = -1\n",
    "for i in range(len(predictions)):\n",
    "    if(difference[i] != 0):\n",
    "        test_point = i\n",
    "        break"
   ]
  },
  {
   "cell_type": "code",
   "execution_count": 105,
   "metadata": {},
   "outputs": [
    {
     "name": "stdout",
     "output_type": "stream",
     "text": [
      "prediction value =  9\n"
     ]
    },
    {
     "data": {
      "image/png": "[encoded data removed]",
      "text/plain": [
       "<Figure size 360x360 with 1 Axes>"
      ]
     },
     "metadata": {},
     "output_type": "display_data"
    }
   ],
   "source": [
    "idx = test_point\n",
    "f, axarr = plt.subplots(1, 1, sharey=False, figsize=(5,5))\n",
    "viz_scores(x_test[idx], axarr) \n",
    "print(\"prediction value = \", predictions[test_point])"
   ]
  },
  {
   "cell_type": "markdown",
   "metadata": {},
   "source": [
    "### Top contributing features for prediction as 4 and 9 for an image indexed as test_point"
   ]
  },
  {
   "cell_type": "code",
   "execution_count": 106,
   "metadata": {},
   "outputs": [
    {
     "data": {
      "image/png": "[encoded data removed]",
      "text/plain": [
       "<Figure size 360x360 with 2 Axes>"
      ]
     },
     "metadata": {},
     "output_type": "display_data"
    }
   ],
   "source": [
    "n_to_erase = 200\n",
    "scores_1 = method_to_task_to_scores['revealcancel'][4][test_point].ravel()\n",
    "scores_2 = method_to_task_to_scores['revealcancel'][9][test_point].ravel()\n",
    "\n",
    "top_nth_threshold_1 = max(sorted(scores_1, reverse=True)[n_to_erase],0.0)\n",
    "top_nth_threshold_2 = max(sorted(scores_2, reverse=True)[n_to_erase],0.0)\n",
    "\n",
    "thresholded_points_1 = 1.0*(scores_1 >= top_nth_threshold_1)\n",
    "thresholded_points_2 = 1.0*(scores_2 >= top_nth_threshold_2)\n",
    "\n",
    "masked_inp_1 = thresholded_points_1.reshape(28,28,1)*x_test[test_point]\n",
    "masked_inp_2 = thresholded_points_2.reshape(28,28,1)*x_test[test_point]\n",
    "\n",
    "f, axarr = plt.subplots(1, 2, sharey=False, figsize=(5, 5))\n",
    "viz_scores(masked_inp_1, axarr[0])\n",
    "viz_scores(masked_inp_2, axarr[1])"
   ]
  },
  {
   "cell_type": "markdown",
   "metadata": {},
   "source": [
    "### Learned kernels"
   ]
  },
  {
   "cell_type": "code",
   "execution_count": 107,
   "metadata": {},
   "outputs": [
    {
     "data": {
      "image/png": "[encoded data removed]",
      "text/plain": [
       "<Figure size 432x288 with 6 Axes>"
      ]
     },
     "metadata": {},
     "output_type": "display_data"
    }
   ],
   "source": [
    "filters, biases = model.layers[0].get_weights()\n",
    "# normalize filter values to 0-1 so we can visualize them\n",
    "f_min, f_max = filters.min(), filters.max()\n",
    "filters = (filters - f_min) / (f_max - f_min)\n",
    "# plot first few filters\n",
    "n_filters, ix = 6, 1\n",
    "for i in range(n_filters):\n",
    "\t# get the filter\n",
    "\tf = filters[:, :, :, i]\n",
    "\t# plot each channel separately\n",
    "\tfor j in range(1):\n",
    "\t\t# specify subplot and turn of axis\n",
    "\t\tax = plt.subplot(n_filters, 3, ix)\n",
    "\t\tax.set_xticks([])\n",
    "\t\tax.set_yticks([])\n",
    "\t\t# plot filter channel in grayscale\n",
    "\t\tplt.imshow(f[:, :, j], cmap='gray')\n",
    "\t\tix += 1\n",
    "# show the figure\n",
    "plt.show()"
   ]
  },
  {
   "cell_type": "code",
   "execution_count": 108,
   "metadata": {},
   "outputs": [
    {
     "name": "stdout",
     "output_type": "stream",
     "text": [
      "_________________________________________________________________\n",
      "Layer (type)                 Output Shape              Param #   \n",
      "=================================================================\n",
      "conv2d_1_input (InputLayer)  (None, 28, 28, 1)         0         \n",
      "_________________________________________________________________\n",
      "conv2d_1 (Conv2D)            (None, 13, 13, 32)        544       \n",
      "_________________________________________________________________\n",
      "activation_1 (Activation)    (None, 13, 13, 32)        0         \n",
      "_________________________________________________________________\n",
      "conv2d_2 (Conv2D)            (None, 5, 5, 64)          32832     \n",
      "=================================================================\n",
      "Total params: 33,376\n",
      "Trainable params: 33,376\n",
      "Non-trainable params: 0\n",
      "_________________________________________________________________\n"
     ]
    }
   ],
   "source": [
    "from keras.models import Model\n",
    "from numpy import expand_dims\n",
    "\n",
    "model = Model(inputs=model.inputs, outputs=model.layers[2].output)\n",
    "model.summary()"
   ]
  },
  {
   "cell_type": "markdown",
   "metadata": {},
   "source": [
    "### High level extracted features"
   ]
  },
  {
   "cell_type": "code",
   "execution_count": 109,
   "metadata": {},
   "outputs": [
    {
     "data": {
      "image/png": "[encoded data removed]",
      "text/plain": [
       "<Figure size 1080x1080 with 64 Axes>"
      ]
     },
     "metadata": {},
     "output_type": "display_data"
    }
   ],
   "source": [
    "# get feature map for first hidden layer\n",
    "img = x_test[idx].reshape(1, 28, 28, 1)\n",
    "feature_maps = model.predict(img)\n",
    "# plot all 64 maps in an 8x8 squares\n",
    "square = 8\n",
    "ix = 1\n",
    "f, axarr = plt.subplots(8, 8, sharey=False, figsize=(15,15))\n",
    "\n",
    "for i in range(square):\n",
    "    for j in range(square):\n",
    "        ax = axarr[i][j]\n",
    "        # specify subplot and turn of axis\n",
    "      \n",
    "        \n",
    "        # plot filter channel in grayscale\n",
    "        ax.imshow(feature_maps[0, :, :, ix-1], cmap='gray')\n",
    "        ax.set_xticks([])\n",
    "        ax.set_yticks([])\n",
    "        ix += 1\n",
    "# show the figure\n",
    "plt.show()"
   ]
  },
  {
   "cell_type": "markdown",
   "metadata": {},
   "source": [
    "### Contribution scores of high level features "
   ]
  },
  {
   "cell_type": "code",
   "execution_count": 110,
   "metadata": {},
   "outputs": [
    {
     "data": {
      "text/plain": [
       "(1, 5, 5, 64)"
      ]
     },
     "execution_count": 110,
     "metadata": {},
     "output_type": "execute_result"
    }
   ],
   "source": [
    "feature_maps.shape"
   ]
  },
  {
   "cell_type": "code",
   "execution_count": 111,
   "metadata": {},
   "outputs": [
    {
     "name": "stdout",
     "output_type": "stream",
     "text": [
      "\tComputing scores for task: 0\n",
      "\tComputing scores for task: 1\n",
      "\tComputing scores for task: 2\n",
      "\tComputing scores for task: 3\n",
      "\tComputing scores for task: 4\n",
      "\tComputing scores for task: 5\n",
      "\tComputing scores for task: 6\n",
      "\tComputing scores for task: 7\n",
      "\tComputing scores for task: 8\n",
      "\tComputing scores for task: 9\n"
     ]
    }
   ],
   "source": [
    "task_to_scores = OrderedDict()\n",
    "\n",
    "revealcancel_func = revealcancel_model.get_target_contribs_func(find_scores_layer_idx=3, target_layer_idx=-2)\n",
    "for task_idx in range(10):\n",
    "        print(\"\\tComputing scores for task: \"+str(task_idx))\n",
    "        scores = np.array(revealcancel_func(\n",
    "                    task_idx=task_idx,\n",
    "                    input_data_list=[x_test],\n",
    "                    input_references_list=[np.zeros_like(x_test)],\n",
    "                    batch_size=1000,\n",
    "                    progress_update=None))\n",
    "        task_to_scores[task_idx] = scores"
   ]
  },
  {
   "cell_type": "code",
   "execution_count": 112,
   "metadata": {},
   "outputs": [],
   "source": [
    "def viz_scores(scores,ax):\n",
    "    reshaped_scores = scores.reshape(5, 5)\n",
    "    the_min = np.min(reshaped_scores)\n",
    "    the_max = np.max(reshaped_scores)\n",
    "    center = 0.0\n",
    "    negative_vals = (reshaped_scores < 0.0)*reshaped_scores/(the_min + 10**-7)\n",
    "    positive_vals = (reshaped_scores > 0.0)*reshaped_scores/float(the_max)\n",
    "    reshaped_scores = -negative_vals + positive_vals\n",
    "    ax.imshow(-reshaped_scores, cmap=\"Greys\")\n",
    "    ax.set_xticks([])\n",
    "    ax.set_yticks([])\n"
   ]
  },
  {
   "cell_type": "code",
   "execution_count": 113,
   "metadata": {},
   "outputs": [
    {
     "data": {
      "image/png": "[encoded data removed]",
      "text/plain": [
       "<Figure size 360x360 with 1 Axes>"
      ]
     },
     "metadata": {},
     "output_type": "display_data"
    }
   ],
   "source": [
    "f, axarr = plt.subplots(1, 1, sharey=False, figsize=(5,5))\n",
    "viz_scores(task_to_scores[9][idx, :, :, 0], axarr)"
   ]
  },
  {
   "cell_type": "code",
   "execution_count": 114,
   "metadata": {},
   "outputs": [
    {
     "data": {
      "image/png": "[encoded data removed]",
      "text/plain": [
       "<Figure size 360x360 with 1 Axes>"
      ]
     },
     "metadata": {},
     "output_type": "display_data"
    }
   ],
   "source": [
    "n_to_erase = 5\n",
    "score = scores[idx, :, :, 0].ravel()\n",
    "#highlight the top n\n",
    "top_nth_threshold = max(sorted(score, reverse=True)[n_to_erase],0.0)\n",
    "thresholded_points = 1.0*(score >= top_nth_threshold)\n",
    "masked_inp = thresholded_points.reshape(5, 5, 1)*feature_maps[0, :, :, 0].reshape(5, 5, 1)\n",
    "f, axarr = plt.subplots(1, 1, sharey=False, figsize=(5,5))\n",
    "viz_scores(masked_inp, axarr)"
   ]
  },
  {
   "cell_type": "markdown",
   "metadata": {},
   "source": [
    "### Essence of a class"
   ]
  },
  {
   "cell_type": "code",
   "execution_count": 123,
   "metadata": {},
   "outputs": [],
   "source": [
    "def viz_scores(scores,ax):\n",
    "    reshaped_scores = scores.reshape(28, 28)\n",
    "    the_min = np.min(reshaped_scores)\n",
    "    the_max = np.max(reshaped_scores)\n",
    "    center = 0.0\n",
    "    negative_vals = (reshaped_scores < 0.0)*reshaped_scores/(the_min + 10**-7)\n",
    "    positive_vals = (reshaped_scores > 0.0)*reshaped_scores/float(the_max)\n",
    "    reshaped_scores = -negative_vals + positive_vals\n",
    "    ax.imshow(-reshaped_scores, cmap=\"Greys\")\n",
    "    ax.set_xticks([])\n",
    "    ax.set_yticks([])\n",
    "\n",
    "def score_average(task_idx):\n",
    "    correct_predicted_class = []\n",
    "    task_idx = task_idx\n",
    "\n",
    "    (_, _), (_, test) = tf.keras.datasets.mnist.load_data()\n",
    "    for i in range(len(predictions)):\n",
    "        if(predictions[i] == test[i] and predictions[i] == task_idx):\n",
    "            correct_predicted_class.append(i)\n",
    "    X = x_test[correct_predicted_class]\n",
    "    revealcancel_func = revealcancel_model.get_target_contribs_func(find_scores_layer_idx=0, target_layer_idx=-2)\n",
    "    score = np.array(revealcancel_func(\n",
    "                    task_idx=task_idx,\n",
    "                    input_data_list=[X],\n",
    "                    input_references_list=[np.zeros_like(X)],\n",
    "                    batch_size=1000,\n",
    "                    progress_update=None))\n",
    "    score_sum = np.sum(score, axis=0)\n",
    "    score_avg = score_sum/len(correct_predicted_class)\n",
    "    return score_avg"
   ]
  },
  {
   "cell_type": "code",
   "execution_count": 124,
   "metadata": {},
   "outputs": [
    {
     "data": {
      "image/png": "[encoded data removed]",
      "text/plain": [
       "<Figure size 1080x1080 with 10 Axes>"
      ]
     },
     "metadata": {},
     "output_type": "display_data"
    }
   ],
   "source": [
    "ix = 1\n",
    "f, axarr = plt.subplots(2, 5, sharey=False, figsize=(15,15))\n",
    "\n",
    "for i in range(2):\n",
    "    for j in range(5):\n",
    "        ax = axarr[i][j]\n",
    "        viz_scores(score_average(ix-1), ax)\n",
    "        ix += 1\n",
    "# show the figure\n",
    "plt.show()"
   ]
  },
  {
   "cell_type": "code",
   "execution_count": 18,
   "metadata": {},
   "outputs": [
    {
     "name": "stdout",
     "output_type": "stream",
     "text": [
      "[[0.09932697 0.1074179  0.08731661 0.0822196  0.10984559 0.09763042\n",
      "  0.06529192 0.11232474 0.13333103 0.10529526]]\n"
     ]
    },
    {
     "data": {
      "image/png": "[encoded data removed]",
      "text/plain": [
       "<Figure size 360x360 with 1 Axes>"
      ]
     },
     "metadata": {
      "needs_background": "light"
     },
     "output_type": "display_data"
    }
   ],
   "source": [
    "from keras.preprocessing.image import ImageDataGenerator, array_to_img, img_to_array, load_img\n",
    "import matplotlib.pyplot as plt\n",
    "\n",
    "img = np.zeros([28, 28])\n",
    "f, axarr = plt.subplots(1, 1, sharey=False, figsize=(5, 5))\n",
    "axarr.imshow(img, cmap='Greys')\n",
    "\n",
    "img = img.reshape(1, 28, 28, 1)\n",
    "output = model.predict(img)\n",
    "print(output)"
   ]
  },
  {
   "cell_type": "code",
   "execution_count": null,
   "metadata": {},
   "outputs": [],
   "source": []
  }
 ],
 "metadata": {
  "kernelspec": {
   "display_name": "Python 3",
   "language": "python",
   "name": "python3"
  },
  "language_info": {
   "codemirror_mode": {
    "name": "ipython",
    "version": 3
   },
   "file_extension": ".py",
   "mimetype": "text/x-python",
   "name": "python",
   "nbconvert_exporter": "python",
   "pygments_lexer": "ipython3",
   "version": "3.5.2"
  }
 },
 "nbformat": 4,
 "nbformat_minor": 2
}
